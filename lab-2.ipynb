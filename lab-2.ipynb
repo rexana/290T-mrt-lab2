{
 "cells": [
  {
   "cell_type": "code",
   "execution_count": 2,
   "metadata": {},
   "outputs": [
    {
     "name": "stdout",
     "output_type": "stream",
     "text": [
      "Populating the interactive namespace from numpy and matplotlib\n"
     ]
    }
   ],
   "source": [
    "%pylab inline\n",
    "\n",
    "from xgboost.sklearn import XGBClassifier\n",
    "from typing import Tuple\n",
    "import xgboost as xgb\n",
    "import pandas as pd\n",
    "import json\n",
    "import sklearn\n",
    "\n",
    "dataset = pd.read_csv('data/multisession-eeg.csv')\n",
    "fromstring = lambda array_str: np.fromstring(array_str, dtype=float, sep=',')\n",
    "dataset.raw_fft = dataset.raw_fft.apply(fromstring)\n",
    "# dataset.raw_fft.iloc[0]"
   ]
  },
  {
   "cell_type": "markdown",
   "metadata": {},
   "source": [
    "# Passthoughts\n",
    "\n",
    "What if you could simply *think your password*? That's the premise behind *passthoughts*. We'll discuss passthoughts in more depth in lecture 3, but for now, we'll lay this out as a classification problem:\n",
    "\n",
    "> Given a reading, and a person, is that person who they claim to be?\n",
    "\n",
    "We'll structure this problem as follows: For each subject, we'll train a classifier. That subject's readings will be positive example, and everyone else's readings will be negative examples.\n",
    "\n",
    "We can make this a little fancier by having people use specific thoughts (e.g. \"focus on your breathing,\" \"sing a song in your head,\" etc). We'll make sure our methods can handle this case, but for the time being, we'll just use the `\"unabeled\"` readings - people doing nothing in particular.\n",
    "\n",
    "We'll use subject `A` as our \"target\" individual. We will train on this subject for this assignment, and train against the other subjects in the corpus (subjects `B` and `C`)."
   ]
  },
  {
   "cell_type": "code",
   "execution_count": 3,
   "metadata": {
    "collapsed": true
   },
   "outputs": [],
   "source": [
    "def to_matrix (series):\n",
    "    return np.array([ x for x in series ])\n",
    "\n",
    "def readings_right_subject_right_task (subj, task, session=0):\n",
    "    return to_matrix(dataset[\n",
    "        (dataset['subject'] == subj) &\n",
    "        (dataset['label'] == task) &\n",
    "        (dataset['session'] == session)\n",
    "    ].raw_fft)\n",
    "\n",
    "def readings_wrong_subj_any_task (subj):\n",
    "    return to_matrix(dataset[\n",
    "        (dataset['subject'] != subj)\n",
    "    ].raw_fft)"
   ]
  },
  {
   "cell_type": "code",
   "execution_count": 22,
   "metadata": {},
   "outputs": [
    {
     "data": {
      "text/plain": [
       "((40, 516), (1228, 516))"
      ]
     },
     "execution_count": 22,
     "metadata": {},
     "output_type": "execute_result"
    }
   ],
   "source": [
    "positive = readings_right_subject_right_task('A', 'unlabeled', 0)\n",
    "negative = readings_wrong_subj_any_task('A')\n",
    "positive.shape, negative.shape"
   ]
  },
  {
   "cell_type": "markdown",
   "metadata": {},
   "source": [
    "## TODO\n",
    "\n",
    "Notice how we structured our positive and negative examples:\n",
    "\n",
    "- *Positive examples*: The right person thinking the right task.\n",
    "\n",
    "- *Negative examples*: The wrong person thinking any task (whether it is right or wrong).\n",
    "\n",
    "In the context of passthoughts, consider other possibilites for selecting positive and negative features. Here, (1) pick one configuration of positive and negative examples, aside from the ones listed, and (2) discuss their possible consequences (pros/cons). Explain how you might evaluate this selection (with data, with user experiments, etc - your choice)."
   ]
  },
  {
   "cell_type": "code",
   "execution_count": 23,
   "metadata": {},
   "outputs": [
    {
     "data": {
      "text/plain": [
       "array(['unlabeled', 'breathe', 'song', 'song_o', 'sport', 'breathe_o',\n",
       "       'speech', 'face', 'calibration', 'word_x', 'phrase_x', 'face_x',\n",
       "       'breatheopen', 'song_x', 'sport_x', 'breatheclosed', 'word_c',\n",
       "       'phrase_c', 'face_c', 'song_c', 'sport_c'], dtype=object)"
      ]
     },
     "execution_count": 23,
     "metadata": {},
     "output_type": "execute_result"
    }
   ],
   "source": [
    "dataset['label'].unique()"
   ]
  },
  {
   "cell_type": "code",
   "execution_count": 42,
   "metadata": {},
   "outputs": [
    {
     "data": {
      "text/plain": [
       "((23, 516), (1228, 516))"
      ]
     },
     "execution_count": 42,
     "metadata": {},
     "output_type": "execute_result"
    }
   ],
   "source": [
    "positive = readings_right_subject_right_task('A', 'face', 0)\n",
    "negative = readings_wrong_subj_any_task('A')\n",
    "positive.shape, negative.shape"
   ]
  },
  {
   "cell_type": "markdown",
   "metadata": {},
   "source": [
    "\"Face\" seems like an interesting \"mental task\" because the face is something specific. For example, with a sport like \"swimming,\" my mental picture of swimming might be pretty different than someone else's. Maybe when I think of swimming I think of doing laps in a pool but when someone else thinks of swimming, they think of a shark in the ocean. These mental pictures are pretty different. In contrast, if someone shows me a picture of a face and shows that picture to someone else and asks us both to close our eyes and picture the face, we should theoretically be imagining pretty close to the same thing.\n",
    "\n",
    "This similarity in mental image could increase the false acceptance rate for this passthought. We can try to test this by comparing the FAR of this passthought to other, potentially more subjective, passthoughts in the dataset."
   ]
  },
  {
   "cell_type": "markdown",
   "metadata": {},
   "source": [
    "Now, we'll turn these data into our feature/label matrices `X` and `y`."
   ]
  },
  {
   "cell_type": "code",
   "execution_count": 43,
   "metadata": {
    "collapsed": true
   },
   "outputs": [],
   "source": [
    "X = np.concatenate([positive, negative])"
   ]
  },
  {
   "cell_type": "code",
   "execution_count": 44,
   "metadata": {
    "collapsed": true
   },
   "outputs": [],
   "source": [
    "y = np.array([ 0 for x in positive] + [ 1 for x in negative])\n",
    "assert X.shape[0] == y.shape[0]"
   ]
  },
  {
   "cell_type": "markdown",
   "metadata": {},
   "source": [
    "Note that we are assigning `0` to \"positive\" examples, and `1` to \"negative\" examples. That means `0` will mean \"ACCEPT\" and `1` will mean \"REJECT.\"\n",
    "\n",
    "## TODO\n",
    "\n",
    "Now, train and test a classifier! Estimate your classifier's accuracy."
   ]
  },
  {
   "cell_type": "code",
   "execution_count": 45,
   "metadata": {
    "collapsed": true
   },
   "outputs": [],
   "source": [
    "# Your code here....\n",
    "\n",
    "def fresh_clf () -> XGBClassifier:\n",
    "    return XGBClassifier(\n",
    "        # Don't worry about those parameters for now,\n",
    "        # though feel free to look them up if you're interested.\n",
    "        objective= 'binary:logistic',\n",
    "        seed=27)\n",
    "\n",
    "def xgb_cross_validate (\n",
    "    X: np.array,\n",
    "    y: np.array,\n",
    "    nfold: int=7\n",
    ") -> Tuple[XGBClassifier, pd.DataFrame]:\n",
    "    # eval_metrics:\n",
    "    # http://xgboost.readthedocs.io/en/latest//parameter.html\n",
    "    metrics = ['error@0.1', 'auc']\n",
    "#     metrics = [ 'auc' ]\n",
    "    # we use the @ syntax to override the default of 0.5 as the threshold for 0 / 1 classification\n",
    "    # the intent here to to minimize FAR at the expense of FRR\n",
    "    alg = fresh_clf()\n",
    "    xgtrain = xgb.DMatrix(X,y)\n",
    "    param = alg.get_xgb_params()\n",
    "    cvresults = xgb.cv(param,\n",
    "                      xgtrain,\n",
    "                      num_boost_round=alg.get_params()['n_estimators'],\n",
    "                      nfold=nfold,\n",
    "                      metrics=metrics,\n",
    "                      early_stopping_rounds=100\n",
    "                      )\n",
    "    alg.set_params(n_estimators=cvresults.shape[0])\n",
    "    alg.fit(X,y,eval_metric=metrics)\n",
    "    return alg, cvresults"
   ]
  },
  {
   "cell_type": "code",
   "execution_count": 46,
   "metadata": {
    "collapsed": true
   },
   "outputs": [],
   "source": [
    "X_train, X_validate, y_train, y_validate = sklearn.model_selection.train_test_split(\n",
    "    X, y, \n",
    "    test_size=0.33, \n",
    "    random_state=42)\n",
    "\n",
    "clf, cvres = xgb_cross_validate(X_train, y_train)"
   ]
  },
  {
   "cell_type": "code",
   "execution_count": 47,
   "metadata": {},
   "outputs": [
    {
     "data": {
      "text/plain": [
       "0.99515738498789341"
      ]
     },
     "execution_count": 47,
     "metadata": {},
     "output_type": "execute_result"
    }
   ],
   "source": [
    "clf.score(X_validate, y_validate)"
   ]
  },
  {
   "cell_type": "markdown",
   "metadata": {},
   "source": [
    "For authentication, what we want even more than \"accuracy\" here are two metrics:\n",
    "\n",
    "- False Acceptance Rate (FAR): The percentage of readings *not* from subject A incorrectly classified \"ACCEPT.\"\n",
    "- False Rejection Rate (FRR): The percentage of readings *from* subject A incorrectly classified 'REJECT.\"\n",
    "\n",
    "For authentication /security/, we want FAR to be as low as possible (so nobody can break in).\n",
    "For authentication /usability/, we want FRR to be low (so user's don't get frustrated constantly re-trying their passthought)."
   ]
  },
  {
   "cell_type": "code",
   "execution_count": 76,
   "metadata": {
    "collapsed": true
   },
   "outputs": [],
   "source": [
    "def far_frr (classifier, features, labels):\n",
    "    # predict all the labels\n",
    "    y_pred = classifier.predict(features)\n",
    "    false_accepts = 0\n",
    "    false_rejects = 0\n",
    "    for predicted, actual in zip(y_pred, labels):\n",
    "        # if we should have rejected,\n",
    "        # but in fact accepted,\n",
    "        if (actual == 1) and (predicted == 0):\n",
    "            # increment false accepts\n",
    "            false_accepts += 1\n",
    "        # if we should have accepted,\n",
    "        # but in fact rejected,\n",
    "        if (actual == 0) and (predicted == 1):\n",
    "            # increment false rejections\n",
    "            false_rejects += 1\n",
    "    # calculate proportions for each\n",
    "    filterFor = lambda x, lst: len(list(filter(lambda y: y==x, lst)))\n",
    "    far = false_accepts / filterFor(0, y_pred)\n",
    "    frr = false_rejects / filterFor(1, y_pred)\n",
    "    return far, frr"
   ]
  },
  {
   "cell_type": "code",
   "execution_count": 78,
   "metadata": {},
   "outputs": [
    {
     "data": {
      "text/plain": [
       "'FAR: 0.16666666666666666 - FRR: 0.002457002457002457'"
      ]
     },
     "execution_count": 78,
     "metadata": {},
     "output_type": "execute_result"
    }
   ],
   "source": [
    "far, frr = far_frr(clf, X_validate, y_validate)\n",
    "f'FAR: {far} - FRR: {frr}'"
   ]
  },
  {
   "cell_type": "markdown",
   "metadata": {},
   "source": [
    "Now, these results might be good. \n",
    "\n",
    "But our classifier's accuracy could be misleading.   \n",
    "\n",
    "Can you see why? \n",
    "\n",
    "# Nonstationarity\n",
    "\n",
    "We are training, and testing, using data recorded over a single session. As we know, EEG changes over time, a property known as *nonstationarity*. Will our great results still hold a few weeks later?\n",
    "\n",
    "Let's take subject `A`'s data from sessions 1 and 2, which were recorded a few weeks after session 0."
   ]
  },
  {
   "cell_type": "markdown",
   "metadata": {},
   "source": [
    "session0: 'unlabeled', 'breathe', 'song', 'song_o', 'sport', 'breathe_o', 'speech', 'face'\n",
    "\n",
    "session1: 'unlabeled', 'calibration', 'word_x', 'phrase_x', 'face_x', 'breatheopen', 'song_x', 'sport_x'\n",
    "\n",
    "session2: 'unlabeled', 'calibration', 'breatheclosed', 'word_x', 'word_c', 'phrase_x', 'phrase_c', 'face_x', 'face_c', 'breatheopen', 'song_x', 'song_c', 'sport_x', 'sport_c'"
   ]
  },
  {
   "cell_type": "code",
   "execution_count": 79,
   "metadata": {},
   "outputs": [
    {
     "data": {
      "text/html": [
       "<div>\n",
       "<style>\n",
       "    .dataframe thead tr:only-child th {\n",
       "        text-align: right;\n",
       "    }\n",
       "\n",
       "    .dataframe thead th {\n",
       "        text-align: left;\n",
       "    }\n",
       "\n",
       "    .dataframe tbody tr th {\n",
       "        vertical-align: top;\n",
       "    }\n",
       "</style>\n",
       "<table border=\"1\" class=\"dataframe\">\n",
       "  <thead>\n",
       "    <tr style=\"text-align: right;\">\n",
       "      <th></th>\n",
       "      <th>time</th>\n",
       "      <th>subject</th>\n",
       "      <th>session</th>\n",
       "      <th>label</th>\n",
       "      <th>raw_fft</th>\n",
       "    </tr>\n",
       "  </thead>\n",
       "  <tbody>\n",
       "    <tr>\n",
       "      <th>0</th>\n",
       "      <td>2017-07-22T20:37:13.267775811Z</td>\n",
       "      <td>A</td>\n",
       "      <td>0</td>\n",
       "      <td>unlabeled</td>\n",
       "      <td>[10.3113040924, 14.77069664, 12.213514328, 9.7...</td>\n",
       "    </tr>\n",
       "    <tr>\n",
       "      <th>7</th>\n",
       "      <td>2017-07-22T20:37:20.310935713Z</td>\n",
       "      <td>A</td>\n",
       "      <td>0</td>\n",
       "      <td>breathe</td>\n",
       "      <td>[14.7440872192, 20.4090538025, 17.9200210571, ...</td>\n",
       "    </tr>\n",
       "    <tr>\n",
       "      <th>41</th>\n",
       "      <td>2017-07-22T20:37:37.807324489Z</td>\n",
       "      <td>A</td>\n",
       "      <td>0</td>\n",
       "      <td>song</td>\n",
       "      <td>[-2.76828026772, 3.32925319672, 8.70094108582,...</td>\n",
       "    </tr>\n",
       "    <tr>\n",
       "      <th>68</th>\n",
       "      <td>2017-07-22T20:37:54.684981624Z</td>\n",
       "      <td>A</td>\n",
       "      <td>0</td>\n",
       "      <td>song_o</td>\n",
       "      <td>[-5.90404844284, 0.217925652862, -0.3990439474...</td>\n",
       "    </tr>\n",
       "    <tr>\n",
       "      <th>97</th>\n",
       "      <td>2017-07-22T20:38:12.736269786Z</td>\n",
       "      <td>A</td>\n",
       "      <td>0</td>\n",
       "      <td>sport</td>\n",
       "      <td>[7.99157047272, 11.9106330872, 8.64755058289, ...</td>\n",
       "    </tr>\n",
       "    <tr>\n",
       "      <th>126</th>\n",
       "      <td>2017-07-22T20:38:33.093049999Z</td>\n",
       "      <td>A</td>\n",
       "      <td>0</td>\n",
       "      <td>breathe_o</td>\n",
       "      <td>[3.60893774033, 7.91881132126, 4.46731090546, ...</td>\n",
       "    </tr>\n",
       "    <tr>\n",
       "      <th>161</th>\n",
       "      <td>2017-07-22T20:38:59.995398858Z</td>\n",
       "      <td>A</td>\n",
       "      <td>0</td>\n",
       "      <td>speech</td>\n",
       "      <td>[5.0061416626, 12.413517952, 15.9103908539, 12...</td>\n",
       "    </tr>\n",
       "    <tr>\n",
       "      <th>189</th>\n",
       "      <td>2017-07-22T20:39:10.794270967Z</td>\n",
       "      <td>A</td>\n",
       "      <td>0</td>\n",
       "      <td>face</td>\n",
       "      <td>[11.7602720261, 17.6141681671, 14.2930927277, ...</td>\n",
       "    </tr>\n",
       "    <tr>\n",
       "      <th>222</th>\n",
       "      <td>2017-07-22T20:41:48.998198485Z</td>\n",
       "      <td>A</td>\n",
       "      <td>1</td>\n",
       "      <td>unlabeled</td>\n",
       "      <td>[5.43575334549, 11.4954481125, 12.8636674881, ...</td>\n",
       "    </tr>\n",
       "    <tr>\n",
       "      <th>231</th>\n",
       "      <td>2017-07-22T20:41:57.451022051Z</td>\n",
       "      <td>A</td>\n",
       "      <td>1</td>\n",
       "      <td>calibration</td>\n",
       "      <td>[18.5128517151, 23.5231590271, 24.8949813843, ...</td>\n",
       "    </tr>\n",
       "    <tr>\n",
       "      <th>233</th>\n",
       "      <td>2017-07-22T20:41:58.180626568Z</td>\n",
       "      <td>A</td>\n",
       "      <td>1</td>\n",
       "      <td>word_x</td>\n",
       "      <td>[7.33312368393, 14.3520040512, 15.798787117, 1...</td>\n",
       "    </tr>\n",
       "    <tr>\n",
       "      <th>261</th>\n",
       "      <td>2017-07-22T20:42:10.781969679Z</td>\n",
       "      <td>A</td>\n",
       "      <td>1</td>\n",
       "      <td>phrase_x</td>\n",
       "      <td>[8.74063873291, 13.3803415298, 14.973443985, 1...</td>\n",
       "    </tr>\n",
       "    <tr>\n",
       "      <th>294</th>\n",
       "      <td>2017-07-22T20:42:22.262492667Z</td>\n",
       "      <td>A</td>\n",
       "      <td>1</td>\n",
       "      <td>face_x</td>\n",
       "      <td>[12.6931276321, 16.7001094818, 15.9662971497, ...</td>\n",
       "    </tr>\n",
       "    <tr>\n",
       "      <th>328</th>\n",
       "      <td>2017-07-22T20:42:34.74782342Z</td>\n",
       "      <td>A</td>\n",
       "      <td>1</td>\n",
       "      <td>breatheopen</td>\n",
       "      <td>[-4.30953264236, -0.654731810093, -1.448957443...</td>\n",
       "    </tr>\n",
       "    <tr>\n",
       "      <th>357</th>\n",
       "      <td>2017-07-22T20:42:49.07824024Z</td>\n",
       "      <td>A</td>\n",
       "      <td>1</td>\n",
       "      <td>song_x</td>\n",
       "      <td>[5.53136014938, 9.65783596039, 13.1984672546, ...</td>\n",
       "    </tr>\n",
       "    <tr>\n",
       "      <th>388</th>\n",
       "      <td>2017-07-22T20:43:03.659600483Z</td>\n",
       "      <td>A</td>\n",
       "      <td>1</td>\n",
       "      <td>sport_x</td>\n",
       "      <td>[5.04515886307, 11.6080436707, 18.6562824249, ...</td>\n",
       "    </tr>\n",
       "    <tr>\n",
       "      <th>631</th>\n",
       "      <td>2017-07-22T20:47:05.622625243Z</td>\n",
       "      <td>A</td>\n",
       "      <td>2</td>\n",
       "      <td>unlabeled</td>\n",
       "      <td>[10.4790878296, 19.3311920166, 18.8329734802, ...</td>\n",
       "    </tr>\n",
       "    <tr>\n",
       "      <th>638</th>\n",
       "      <td>2017-07-22T20:47:11.90583195Z</td>\n",
       "      <td>A</td>\n",
       "      <td>2</td>\n",
       "      <td>calibration</td>\n",
       "      <td>[25.9637393951, 30.8121204376, 27.0860977173, ...</td>\n",
       "    </tr>\n",
       "    <tr>\n",
       "      <th>642</th>\n",
       "      <td>2017-07-22T20:47:14.649967878Z</td>\n",
       "      <td>A</td>\n",
       "      <td>2</td>\n",
       "      <td>breatheclosed</td>\n",
       "      <td>[11.9559392929, 17.1107234955, 18.7989501953, ...</td>\n",
       "    </tr>\n",
       "    <tr>\n",
       "      <th>685</th>\n",
       "      <td>2017-07-22T20:47:34.869956663Z</td>\n",
       "      <td>A</td>\n",
       "      <td>2</td>\n",
       "      <td>word_x</td>\n",
       "      <td>[7.49920606613, 13.4054765701, 15.9481735229, ...</td>\n",
       "    </tr>\n",
       "    <tr>\n",
       "      <th>719</th>\n",
       "      <td>2017-07-22T20:47:49.885112516Z</td>\n",
       "      <td>A</td>\n",
       "      <td>2</td>\n",
       "      <td>word_c</td>\n",
       "      <td>[-7.76212787628, 0.113087676466, 2.4111328125,...</td>\n",
       "    </tr>\n",
       "    <tr>\n",
       "      <th>763</th>\n",
       "      <td>2017-07-22T20:48:06.673632564Z</td>\n",
       "      <td>A</td>\n",
       "      <td>2</td>\n",
       "      <td>phrase_x</td>\n",
       "      <td>[9.50794124603, 16.138633728, 19.8024768829, 1...</td>\n",
       "    </tr>\n",
       "    <tr>\n",
       "      <th>799</th>\n",
       "      <td>2017-07-22T20:48:24.642781037Z</td>\n",
       "      <td>A</td>\n",
       "      <td>2</td>\n",
       "      <td>phrase_c</td>\n",
       "      <td>[-12.4810342789, -5.37021255493, -6.5065279007...</td>\n",
       "    </tr>\n",
       "    <tr>\n",
       "      <th>838</th>\n",
       "      <td>2017-07-22T20:48:42.286646111Z</td>\n",
       "      <td>A</td>\n",
       "      <td>2</td>\n",
       "      <td>face_x</td>\n",
       "      <td>[-3.54564595222, 1.30844271183, -2.03067612648...</td>\n",
       "    </tr>\n",
       "    <tr>\n",
       "      <th>869</th>\n",
       "      <td>2017-07-22T20:48:57.718173055Z</td>\n",
       "      <td>A</td>\n",
       "      <td>2</td>\n",
       "      <td>face_c</td>\n",
       "      <td>[14.8472881317, 19.5035228729, 19.5518875122, ...</td>\n",
       "    </tr>\n",
       "    <tr>\n",
       "      <th>900</th>\n",
       "      <td>2017-07-22T20:49:13.817266025Z</td>\n",
       "      <td>A</td>\n",
       "      <td>2</td>\n",
       "      <td>breatheopen</td>\n",
       "      <td>[4.26340532303, 9.04247188568, 13.0062150955, ...</td>\n",
       "    </tr>\n",
       "    <tr>\n",
       "      <th>941</th>\n",
       "      <td>2017-07-22T20:49:35.157535831Z</td>\n",
       "      <td>A</td>\n",
       "      <td>2</td>\n",
       "      <td>song_x</td>\n",
       "      <td>[13.1025819778, 18.3737983704, 19.575296402, 1...</td>\n",
       "    </tr>\n",
       "    <tr>\n",
       "      <th>974</th>\n",
       "      <td>2017-07-22T20:50:03.908152904Z</td>\n",
       "      <td>A</td>\n",
       "      <td>2</td>\n",
       "      <td>song_c</td>\n",
       "      <td>[8.7653875351, 15.580696106, 16.3360881805, 13...</td>\n",
       "    </tr>\n",
       "    <tr>\n",
       "      <th>1011</th>\n",
       "      <td>2017-07-22T20:50:22.16247846Z</td>\n",
       "      <td>A</td>\n",
       "      <td>2</td>\n",
       "      <td>sport_x</td>\n",
       "      <td>[8.53742790222, 15.9111356735, 17.6080741882, ...</td>\n",
       "    </tr>\n",
       "    <tr>\n",
       "      <th>1060</th>\n",
       "      <td>2017-07-22T20:50:38.949615462Z</td>\n",
       "      <td>A</td>\n",
       "      <td>2</td>\n",
       "      <td>sport_c</td>\n",
       "      <td>[6.03770542145, 10.8021965027, 14.5583171844, ...</td>\n",
       "    </tr>\n",
       "  </tbody>\n",
       "</table>\n",
       "</div>"
      ],
      "text/plain": [
       "                                time subject  session          label  \\\n",
       "0     2017-07-22T20:37:13.267775811Z       A        0      unlabeled   \n",
       "7     2017-07-22T20:37:20.310935713Z       A        0        breathe   \n",
       "41    2017-07-22T20:37:37.807324489Z       A        0           song   \n",
       "68    2017-07-22T20:37:54.684981624Z       A        0         song_o   \n",
       "97    2017-07-22T20:38:12.736269786Z       A        0          sport   \n",
       "126   2017-07-22T20:38:33.093049999Z       A        0      breathe_o   \n",
       "161   2017-07-22T20:38:59.995398858Z       A        0         speech   \n",
       "189   2017-07-22T20:39:10.794270967Z       A        0           face   \n",
       "222   2017-07-22T20:41:48.998198485Z       A        1      unlabeled   \n",
       "231   2017-07-22T20:41:57.451022051Z       A        1    calibration   \n",
       "233   2017-07-22T20:41:58.180626568Z       A        1         word_x   \n",
       "261   2017-07-22T20:42:10.781969679Z       A        1       phrase_x   \n",
       "294   2017-07-22T20:42:22.262492667Z       A        1         face_x   \n",
       "328    2017-07-22T20:42:34.74782342Z       A        1    breatheopen   \n",
       "357    2017-07-22T20:42:49.07824024Z       A        1         song_x   \n",
       "388   2017-07-22T20:43:03.659600483Z       A        1        sport_x   \n",
       "631   2017-07-22T20:47:05.622625243Z       A        2      unlabeled   \n",
       "638    2017-07-22T20:47:11.90583195Z       A        2    calibration   \n",
       "642   2017-07-22T20:47:14.649967878Z       A        2  breatheclosed   \n",
       "685   2017-07-22T20:47:34.869956663Z       A        2         word_x   \n",
       "719   2017-07-22T20:47:49.885112516Z       A        2         word_c   \n",
       "763   2017-07-22T20:48:06.673632564Z       A        2       phrase_x   \n",
       "799   2017-07-22T20:48:24.642781037Z       A        2       phrase_c   \n",
       "838   2017-07-22T20:48:42.286646111Z       A        2         face_x   \n",
       "869   2017-07-22T20:48:57.718173055Z       A        2         face_c   \n",
       "900   2017-07-22T20:49:13.817266025Z       A        2    breatheopen   \n",
       "941   2017-07-22T20:49:35.157535831Z       A        2         song_x   \n",
       "974   2017-07-22T20:50:03.908152904Z       A        2         song_c   \n",
       "1011   2017-07-22T20:50:22.16247846Z       A        2        sport_x   \n",
       "1060  2017-07-22T20:50:38.949615462Z       A        2        sport_c   \n",
       "\n",
       "                                                raw_fft  \n",
       "0     [10.3113040924, 14.77069664, 12.213514328, 9.7...  \n",
       "7     [14.7440872192, 20.4090538025, 17.9200210571, ...  \n",
       "41    [-2.76828026772, 3.32925319672, 8.70094108582,...  \n",
       "68    [-5.90404844284, 0.217925652862, -0.3990439474...  \n",
       "97    [7.99157047272, 11.9106330872, 8.64755058289, ...  \n",
       "126   [3.60893774033, 7.91881132126, 4.46731090546, ...  \n",
       "161   [5.0061416626, 12.413517952, 15.9103908539, 12...  \n",
       "189   [11.7602720261, 17.6141681671, 14.2930927277, ...  \n",
       "222   [5.43575334549, 11.4954481125, 12.8636674881, ...  \n",
       "231   [18.5128517151, 23.5231590271, 24.8949813843, ...  \n",
       "233   [7.33312368393, 14.3520040512, 15.798787117, 1...  \n",
       "261   [8.74063873291, 13.3803415298, 14.973443985, 1...  \n",
       "294   [12.6931276321, 16.7001094818, 15.9662971497, ...  \n",
       "328   [-4.30953264236, -0.654731810093, -1.448957443...  \n",
       "357   [5.53136014938, 9.65783596039, 13.1984672546, ...  \n",
       "388   [5.04515886307, 11.6080436707, 18.6562824249, ...  \n",
       "631   [10.4790878296, 19.3311920166, 18.8329734802, ...  \n",
       "638   [25.9637393951, 30.8121204376, 27.0860977173, ...  \n",
       "642   [11.9559392929, 17.1107234955, 18.7989501953, ...  \n",
       "685   [7.49920606613, 13.4054765701, 15.9481735229, ...  \n",
       "719   [-7.76212787628, 0.113087676466, 2.4111328125,...  \n",
       "763   [9.50794124603, 16.138633728, 19.8024768829, 1...  \n",
       "799   [-12.4810342789, -5.37021255493, -6.5065279007...  \n",
       "838   [-3.54564595222, 1.30844271183, -2.03067612648...  \n",
       "869   [14.8472881317, 19.5035228729, 19.5518875122, ...  \n",
       "900   [4.26340532303, 9.04247188568, 13.0062150955, ...  \n",
       "941   [13.1025819778, 18.3737983704, 19.575296402, 1...  \n",
       "974   [8.7653875351, 15.580696106, 16.3360881805, 13...  \n",
       "1011  [8.53742790222, 15.9111356735, 17.6080741882, ...  \n",
       "1060  [6.03770542145, 10.8021965027, 14.5583171844, ...  "
      ]
     },
     "execution_count": 79,
     "metadata": {},
     "output_type": "execute_result"
    }
   ],
   "source": [
    "X_subja_sess1 = readings_right_subject_right_task('A', 'face_x', 1)\n",
    "X_subja_sess2 = readings_right_subject_right_task('A', 'face_x', 2)\n",
    "X_subja_later = np.concatenate([X_subja_sess1, X_subja_sess2])\n",
    "y_subja_later = [ 0 for x in X_subja_later ]\n",
    "session_2 = dataset[\n",
    "        (dataset['subject'] == 'A')\n",
    "    ].groupby(['label', 'session'])\n",
    "session_2.head(1)\n"
   ]
  },
  {
   "cell_type": "markdown",
   "metadata": {},
   "source": [
    "Now, let's try the classifier we trained on the original data, testing it on the later data."
   ]
  },
  {
   "cell_type": "code",
   "execution_count": 80,
   "metadata": {},
   "outputs": [
    {
     "data": {
      "text/plain": [
       "'FAR: 0.0% - FRR: 100.0%'"
      ]
     },
     "execution_count": 80,
     "metadata": {},
     "output_type": "execute_result"
    }
   ],
   "source": [
    "far, frr = far_frr(clf, X_subja_later, y_subja_later)\n",
    "f'FAR: {far*100}% - FRR: {frr*100}%'"
   ]
  },
  {
   "cell_type": "markdown",
   "metadata": {},
   "source": [
    "As we will discuss more in lecture 3, this is a problem for us. After all, we can calibrate our target subject, but we then expect them to leave the lab and go use the device later on. If their state changes so much that they can no longer be authenticated, we can't very well claim our system is accurate!\n",
    "\n",
    "## TODO\n",
    "\n",
    "The crux of the lab focuses on nonstationarity. At minimum, your mission is to quantify and qualify *what* is changing in EEG signals over time. You may use any tools in answering this question.\n",
    "\n",
    "You also have your choice of corpus:\n",
    "\n",
    "- Study subject `A`'s recordings over the three sessions provided here.\n",
    "- Study one subject's recordings over the course of a year.\n",
    "\n",
    "You can use both of these corpora, if you would like.\n",
    "\n",
    "Some questions to spur investigation:\n",
    "\n",
    "- What features of readings cause a classifier that works on earlier recordings fail on later ones?\n",
    "- What features remain the same? Are there any?\n",
    "- What might be the source of these changing features? Changing placement in the EEG device? Changing properties of the brain?\n",
    "\n",
    "Please note below all work you do, and any notes you make along the way. Ideally, your work should read like a story - words (and questions!) interspersed with code. Good luck, and have fun!"
   ]
  },
  {
   "cell_type": "code",
   "execution_count": null,
   "metadata": {
    "collapsed": true
   },
   "outputs": [],
   "source": []
  },
  {
   "cell_type": "code",
   "execution_count": null,
   "metadata": {
    "collapsed": true
   },
   "outputs": [],
   "source": []
  }
 ],
 "metadata": {
  "kernelspec": {
   "display_name": "Python 3",
   "language": "python",
   "name": "python3"
  },
  "language_info": {
   "codemirror_mode": {
    "name": "ipython",
    "version": 3
   },
   "file_extension": ".py",
   "mimetype": "text/x-python",
   "name": "python",
   "nbconvert_exporter": "python",
   "pygments_lexer": "ipython3",
   "version": "3.6.1"
  }
 },
 "nbformat": 4,
 "nbformat_minor": 2
}
